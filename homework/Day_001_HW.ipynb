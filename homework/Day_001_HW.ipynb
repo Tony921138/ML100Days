{
 "cells": [
  {
   "cell_type": "markdown",
   "metadata": {},
   "source": [
    "## 練習時間\n",
    "#### 請寫一個函式用來計算 Mean Square Error\n",
    "$ MSE = \\frac{1}{n}\\sum_{i=1}^{n}{(Y_i - \\hat{Y}_i)^2} $\n",
    "\n",
    "### Hint: [如何取平方](https://googoodesign.gitbooks.io/-ezpython/unit-1.html)"
   ]
  },
  {
   "cell_type": "markdown",
   "metadata": {},
   "source": [
    "# [作業目標]\n",
    "- 仿造範例的MAE函數, 自己寫一個MSE函數(參考上面公式)"
   ]
  },
  {
   "cell_type": "markdown",
   "metadata": {},
   "source": [
    "# [作業重點]\n",
    "- 注意程式的縮排\n",
    "- 是否能將數學公式, 轉換為 Python 的函式組合? (In[2], Out[2])"
   ]
  },
  {
   "cell_type": "code",
   "execution_count": 1,
   "metadata": {},
   "outputs": [],
   "source": [
    "# 載入基礎套件與代稱\n",
    "import numpy as np\n",
    "import matplotlib.pyplot as plt"
   ]
  },
  {
   "cell_type": "code",
   "execution_count": 2,
   "metadata": {},
   "outputs": [],
   "source": [
    "def mean_absolute_error(y, yp):\n",
    "    \"\"\"\n",
    "    計算 MAE\n",
    "    Args:\n",
    "        - y: 實際值\n",
    "        - yp: 預測值\n",
    "    Return:\n",
    "        - mae: MAE\n",
    "    \"\"\"\n",
    "    mae = MAE = sum(abs(y - yp)) / len(y)\n",
    "    return mae\n",
    "\n",
    "# 定義 mean_squared_error 這個函數, 計算並傳回 MSE\n",
    "def mean_squared_error(y, yp):\n",
    "    mse = MSE = sum(((y - yp) ** 2)) / len(y)\n",
    "    return mse"
   ]
  },
  {
   "cell_type": "code",
   "execution_count": 3,
   "metadata": {},
   "outputs": [
    {
     "data": {
      "image/png": "[encoded data removed]",
      "text/plain": [
       "<Figure size 432x288 with 1 Axes>"
      ]
     },
     "metadata": {
      "needs_background": "light"
     },
     "output_type": "display_data"
    }
   ],
   "source": [
    "# 與範例相同, 不另外解說\n",
    "w = 3\n",
    "b = 0.5\n",
    "x_lin = np.linspace(0, 100, 101)\n",
    "y = (x_lin + np.random.randn(101) * 5) * w + b\n",
    "\n",
    "plt.plot(x_lin, y, 'b.', label = 'data points')\n",
    "plt.title(\"Assume we have data points\")\n",
    "plt.legend(loc = 2)\n",
    "plt.show()"
   ]
  },
  {
   "cell_type": "code",
   "execution_count": 4,
   "metadata": {},
   "outputs": [
    {
     "data": {
      "image/png": "[encoded data removed]",
      "text/plain": [
       "<Figure size 432x288 with 1 Axes>"
      ]
     },
     "metadata": {
      "needs_background": "light"
     },
     "output_type": "display_data"
    }
   ],
   "source": [
    "# 與範例相同, 不另外解說\n",
    "y_hat = x_lin * w + b\n",
    "plt.plot(x_lin, y, 'b.', label = 'data')\n",
    "plt.plot(x_lin, y_hat, 'r-', label = 'prediction')\n",
    "plt.title(\"Assume we have data points (And the prediction)\")\n",
    "plt.legend(loc = 2)\n",
    "plt.show()"
   ]
  },
  {
   "cell_type": "code",
   "execution_count": 5,
   "metadata": {},
   "outputs": [
    {
     "name": "stdout",
     "output_type": "stream",
     "text": [
      "The Mean squared error is 214.303\n",
      "The Mean absolute error is 12.440\n"
     ]
    }
   ],
   "source": [
    "# 執行 Function, 確認有沒有正常執行\n",
    "MSE = mean_squared_error(y, y_hat)\n",
    "MAE = mean_absolute_error(y, y_hat)\n",
    "print(\"The Mean squared error is %.3f\" % (MSE))\n",
    "print(\"The Mean absolute error is %.3f\" % (MAE))"
   ]
  },
  {
   "cell_type": "markdown",
   "metadata": {},
   "source": [
    "# [作業2]\n",
    "\n",
    "請上 Kaggle, 在 Competitions 或 Dataset 中找一組競賽或資料並寫下：\n",
    "\n",
    "資料: Solar Power Generation Data (https://www.kaggle.com/anikannal/solar-power-generation-data)\n",
    "\n",
    "1. 你選的這組資料為何重要\n",
    "\n",
    "A: 近期綠能因為氣候變遷而越來越備受重視，也越來越多人在推廣太陽能的普及化。使用太陽能板的同時，評估/預測/監測供電效能的過程中同時也產生了大量的資料，如何適當的運用這些資料也成了不可避免的重要環節之一。\n",
    "\n",
    "2. 資料從何而來 (tips: 譬如提供者是誰、以什麼方式蒐集)\n",
    "\n",
    "A: 這份資料由兩個位於印度的太陽能發電站提供，數值皆由不同的感應器收集而來(能量產出的數值資料 -> 太陽能轉換器端 / 感應器感測的數值資料 -> 發電廠端)。\n",
    "\n",
    "3. 蒐集而來的資料型態為何\n",
    "\n",
    "A: 兩個太陽能發電站的資料皆包含Generation_Data 跟 Weather_Sensor_Data，四個csv檔中除了DATE_TIME欄位為時間序列型資料，SOURCE_KEY欄位為文字形資料以外，其餘欄位皆為數值型資料\n",
    "\n",
    "4. 這組資料想解決的問題如何評估\n",
    "\n",
    "A: 1 能否預測接下來幾天的供電量(這個有助於更好的太陽能板使用規劃) -> 屬於預測問題，可用MAE來RMSE來評估\n",
    "   2 能否識別需要清/維修的太陽能板為何 -> 屬於分類問題，可用accuracy或AUC來評估\n",
    "   3 能否識別有缺陷/運作較劣等的太陽能板為何 -> 屬於分類問題，可用accuracy來AUC還評估\n",
    "   \n",
    "\n",
    "# [作業3]\n",
    "\n",
    "想像你經營一個自由載客車隊，你希望能透過數據分析以提升業績，請你思考並描述你如何規劃整體的分析/解決方案：\n",
    "\n",
    "1. 核心問題為何 (tips：如何定義 「提升業績 & 你的假設」)\n",
    "\n",
    "A: 核心問題就是如何提升載客量，分析如何根據不同時間段及不同地點來找出較高的搭乘率用以提升整體載客效率。\n",
    "\n",
    "2. 資料從何而來 (tips：哪些資料可能會對你想問的問題產生影響 & 資料如何蒐集)\n",
    "\n",
    "A: 從所有使用過APP叫車的使用者的坐車歷史紀錄當中，找出乘客上/下車的地點、時間、搭乘距離、搭乘時間..等。\n",
    "\n",
    "3. 蒐集而來的資料型態為何\n",
    "\n",
    "A: 乘客id -> 數值/文字型資料\n",
    "   乘客上車地點 -> 文字型資料\n",
    "   乘客下車地點 -> 文字型資料\n",
    "   乘客乘車時間 -> 時間序列型資料\n",
    "   ..\n",
    "   \n",
    "   司機id\n",
    "   乘客a和乘客b之間的間隔時間 -> 時間序列型資料\n",
    "   乘客a上/下車地點 -> 文字型資料\n",
    "   乘客b上/下車地點 -> 文字型資料\n",
    "   ..\n",
    "   \n",
    "4. 你要回答的問題，其如何評估 (tips：你的假設如何驗證)\n",
    "\n",
    "A: 1 能否預測出在甚麼時間點哪個地段會有較高的乘客搭車需求 ->  屬於分類問題，可用accuracy來AUC來評估\n",
    "   \n",
    "   2 由預測在某地點的平均載客率來分配相對應的司機 -> 屬於預測問題，可用MAE來RMSE來評估"
   ]
  }
 ],
 "metadata": {
  "anaconda-cloud": {},
  "kernelspec": {
   "display_name": "Python 3",
   "language": "python",
   "name": "python3"
  },
  "language_info": {
   "codemirror_mode": {
    "name": "ipython",
    "version": 3
   },
   "file_extension": ".py",
   "mimetype": "text/x-python",
   "name": "python",
   "nbconvert_exporter": "python",
   "pygments_lexer": "ipython3",
   "version": "3.7.7"
  }
 },
 "nbformat": 4,
 "nbformat_minor": 1
}
